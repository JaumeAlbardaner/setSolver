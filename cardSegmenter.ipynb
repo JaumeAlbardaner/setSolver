{
 "cells": [
  {
   "cell_type": "markdown",
   "metadata": {},
   "source": [
    "# Dataset generator"
   ]
  },
  {
   "cell_type": "markdown",
   "metadata": {},
   "source": [
    "In this file, we have the code required to segment a deck of cards on a black background. They are then saved on another directory. \n",
    "\n",
    "We start by installing dependencies:"
   ]
  },
  {
   "cell_type": "code",
   "execution_count": 1,
   "metadata": {},
   "outputs": [
    {
     "name": "stdout",
     "output_type": "stream",
     "text": [
      "Defaulting to user installation because normal site-packages is not writeable\n",
      "Requirement already satisfied: numpy in /usr/lib/python3/dist-packages (1.26.4)\n",
      "Note: you may need to restart the kernel to use updated packages.\n"
     ]
    }
   ],
   "source": [
    "pip install numpy\n"
   ]
  },
  {
   "cell_type": "markdown",
   "metadata": {},
   "source": [
    "Verify imports:"
   ]
  },
  {
   "cell_type": "code",
   "execution_count": 3,
   "metadata": {},
   "outputs": [],
   "source": [
    "import os\n",
    "import numpy as np\n",
    "import cv2"
   ]
  },
  {
   "cell_type": "markdown",
   "metadata": {},
   "source": [
    "The only area that we're interested in is the area that belongs to the biggest \"blob\", hence why we just find the biggest blob of all and ignore the rest.\n",
    "This is thanks to the background being black to begin with (dataset preparation)."
   ]
  },
  {
   "cell_type": "code",
   "execution_count": 17,
   "metadata": {},
   "outputs": [],
   "source": [
    "\n",
    "# Function to remove black background and trim the image using OpenCV\n",
    "def remove_black_background_and_trim(image):\n",
    "    # Convert the image to grayscale\n",
    "    gray = cv2.cvtColor(image, cv2.COLOR_BGR2GRAY)\n",
    "    \n",
    "    # Apply a binary threshold to mask out darker areas (tuning this threshold value is key)\n",
    "    _, thresh = cv2.threshold(gray, 0, 255, cv2.THRESH_BINARY + cv2.THRESH_OTSU)\n",
    "    \n",
    "\n",
    "    # Find all contours (blobs) in the image\n",
    "    contours, _ = cv2.findContours(thresh, cv2.RETR_EXTERNAL, cv2.CHAIN_APPROX_SIMPLE)\n",
    "    \n",
    "    # Check if any contours were found\n",
    "    if len(contours) == 0:\n",
    "        print(\"No blobs found in the image.\")\n",
    "        return image\n",
    "\n",
    "    # Find the largest contour based on the contour area\n",
    "    largest_contour = max(contours, key=cv2.contourArea)\n",
    "    \n",
    "    # Create a mask for the largest blob (initially black)\n",
    "    mask = np.zeros_like(gray)\n",
    "    \n",
    "    # Draw the largest contour on the mask\n",
    "    cv2.drawContours(mask, [largest_contour], -1, 255, thickness=cv2.FILLED)\n",
    "    \n",
    "    # Apply the mask to the original image (bitwise AND)\n",
    "    result = cv2.bitwise_and(image, image, mask=mask)\n",
    "\n",
    "\n",
    "    # Find the bounding box of the non-zero region in the mask\n",
    "    x, y, w, h = cv2.boundingRect(mask)\n",
    "    \n",
    "    # Crop the image to the bounding box\n",
    "    cropped_result = result[y:y+h, x:x+w]\n",
    "\n",
    "    return cropped_result\n",
    "\n",
    "\n"
   ]
  },
  {
   "cell_type": "markdown",
   "metadata": {},
   "source": [
    "Then, we just process these images and store them following the convention:\n",
    "\n",
    "* **c/r/w:** Cylinder / Romb / Wave\n",
    "* **l/g/d:** Light / Gradient / Dark\n",
    "* **g/r/v:** Green / Red / Violet\n",
    "* **1/2/3:** # Of figures in card"
   ]
  },
  {
   "cell_type": "code",
   "execution_count": null,
   "metadata": {},
   "outputs": [],
   "source": [
    "# Function to process images from Dataset folder and save to Segmented folder\n",
    "def process_images(dataset_folder, output_folder):\n",
    "    # Create the output folder if it doesn't exist\n",
    "    if not os.path.exists(output_folder):\n",
    "        os.makedirs(output_folder)\n",
    "\n",
    "    # List type of figure in card\n",
    "    figure = ['c','r','w']\n",
    "    filling = ['l', 'g', 'd']\n",
    "    color = ['g','r','v']\n",
    "    number = ['1','2','3']\n",
    "\n",
    "    cardnum = 0\n",
    "\n",
    "    # Loop through all files in the dataset folder\n",
    "    for filename in sorted(os.listdir(dataset_folder)):\n",
    "        # Check if the file is an image (you can add more formats if needed)\n",
    "        if filename.lower().endswith(('.png', '.jpg', '.jpeg', '.bmp')):\n",
    "            # Read the image\n",
    "            img_path = os.path.join(dataset_folder, filename)\n",
    "            image = cv2.imread(img_path)\n",
    "\n",
    "            if image is not None:\n",
    "                # Process the image to remove black background and trim\n",
    "                processed_image = remove_black_background_and_trim(image)\n",
    "                \n",
    "                # Save the processed image to the output folder\n",
    "                filename = figure[cardnum % 3] + filling[cardnum//3 % 3] + color[cardnum//9 % 3] + number[cardnum//27] + \".png\"\n",
    "                output_path = os.path.join(output_folder, filename)\n",
    "                cv2.imwrite(output_path, processed_image)\n",
    "                print(f\"Processed and saved: {output_path}\")\n",
    "\n",
    "        cardnum += 1\n",
    "\n",
    "# Main execution\n",
    "if __name__ == \"__main__\":\n",
    "    dataset_folder = \"Dataset\"      # Folder containing the input images\n",
    "    output_folder = \"Segmented\"     # Folder to save the processed images\n",
    "\n",
    "    process_images(dataset_folder, output_folder)"
   ]
  }
 ],
 "metadata": {
  "kernelspec": {
   "display_name": "Python 3",
   "language": "python",
   "name": "python3"
  },
  "language_info": {
   "codemirror_mode": {
    "name": "ipython",
    "version": 3
   },
   "file_extension": ".py",
   "mimetype": "text/x-python",
   "name": "python",
   "nbconvert_exporter": "python",
   "pygments_lexer": "ipython3",
   "version": "3.12.3"
  }
 },
 "nbformat": 4,
 "nbformat_minor": 2
}
